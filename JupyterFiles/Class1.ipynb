{
 "cells": [
  {
   "cell_type": "code",
   "execution_count": 9,
   "metadata": {},
   "outputs": [
    {
     "name": "stdout",
     "output_type": "stream",
     "text": [
      "Pakistan Zindabad\n",
      "Junoon\n"
     ]
    }
   ],
   "source": [
    "print(\"Pakistan Zindabad\")\n",
    "print(\"Junoon\")"
   ]
  },
  {
   "cell_type": "code",
   "execution_count": 8,
   "metadata": {},
   "outputs": [
    {
     "name": "stdout",
     "output_type": "stream",
     "text": [
      "NDU\n"
     ]
    }
   ],
   "source": [
    "print(\"NDU\")"
   ]
  },
  {
   "cell_type": "markdown",
   "metadata": {},
   "source": [
    "# Bahria University\n",
    "- 12:15 to 15:15"
   ]
  },
  {
   "cell_type": "raw",
   "metadata": {},
   "source": [
    "function abc (a,b)"
   ]
  },
  {
   "cell_type": "markdown",
   "metadata": {},
   "source": [
    "# Safyan\n",
    "- AD QEC"
   ]
  },
  {
   "cell_type": "markdown",
   "metadata": {},
   "source": [
    "# Mubashir\n",
    "- student"
   ]
  },
  {
   "cell_type": "code",
   "execution_count": 6,
   "metadata": {},
   "outputs": [
    {
     "name": "stdout",
     "output_type": "stream",
     "text": [
      "\n",
      "PIAIC ISLAMABAD BATCH3\n",
      "Name : Safyan Tahir Verka\n",
      "Father Name : Tahir Mahmood\n",
      "University : Bahria University\n",
      "\n"
     ]
    }
   ],
   "source": [
    "name = \"Safyan Tahir Verka\"\n",
    "father_name = \"Tahir Mahmood\"\n",
    "message = \"\"\"\n",
    "PIAIC ISLAMABAD BATCH3\n",
    "Name : {}\n",
    "Father Name : {}\n",
    "University : Bahria University\n",
    "\"\"\"\n",
    "\n",
    "message1 = message.format(name, father_name)\n",
    "\n",
    "print (message1)"
   ]
  },
  {
   "cell_type": "code",
   "execution_count": 15,
   "metadata": {},
   "outputs": [
    {
     "name": "stdout",
     "output_type": "stream",
     "text": [
      "\n",
      "PIAIC ISLAMABAD BATCH3\n",
      "Name : Safyan Tahir\n",
      "Father Name : Tahir Mahmood\n",
      "University : Bahria University\n",
      "\n"
     ]
    }
   ],
   "source": [
    "name = \"Safyan Tahir\"\n",
    "father_name = \"Tahir Mahmood\"\n",
    "Message = \"\"\"\n",
    "Name:{}\n",
    "Father Name: {}\n",
    "Phy        : 89\n",
    "Eng        : 70\n",
    "Islam      : 80\n",
    "Pak Stds   : 75\n",
    "Maths      : 90\n",
    "Marks obtained : 450\n",
    "Total Marls : 500\n",
    "\"\"\"\n",
    "message2 =message.format(name,father_name)\n",
    "\n",
    "print (message2)\n"
   ]
  }
 ],
 "metadata": {
  "kernelspec": {
   "display_name": "Python 3",
   "language": "python",
   "name": "python3"
  },
  "language_info": {
   "codemirror_mode": {
    "name": "ipython",
    "version": 3
   },
   "file_extension": ".py",
   "mimetype": "text/x-python",
   "name": "python",
   "nbconvert_exporter": "python",
   "pygments_lexer": "ipython3",
   "version": "3.7.4"
  }
 },
 "nbformat": 4,
 "nbformat_minor": 2
}
